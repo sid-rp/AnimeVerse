{
 "cells": [
  {
   "cell_type": "code",
   "execution_count": 1,
   "id": "9e7d644b",
   "metadata": {},
   "outputs": [
    {
     "name": "stderr",
     "output_type": "stream",
     "text": [
      "Setting default log level to \"WARN\".\n",
      "To adjust logging level use sc.setLogLevel(newLevel). For SparkR, use setLogLevel(newLevel).\n",
      "24/05/08 00:57:08 INFO org.apache.spark.SparkEnv: Registering MapOutputTracker\n",
      "24/05/08 00:57:08 INFO org.apache.spark.SparkEnv: Registering BlockManagerMaster\n",
      "24/05/08 00:57:08 INFO org.apache.spark.SparkEnv: Registering BlockManagerMasterHeartbeat\n",
      "24/05/08 00:57:08 INFO org.apache.spark.SparkEnv: Registering OutputCommitCoordinator\n"
     ]
    }
   ],
   "source": [
    "import sys\n",
    "from pyspark import SparkContext, SparkConf\n",
    "from pyspark.sql import SparkSession\n",
    "import pandas as pd\n",
    "import pyspark\n",
    "    \n",
    "# get the sparkcontext to communicate with the cluster\n",
    "cf = SparkConf()\n",
    "cf.set(\"spark.submit.deployMode\",\"client\")\n",
    "cf.set('spark.sql.repl.eagerEval.enabled', True)\n",
    "\n",
    "cf.set('spark.driver.memory','16g')\n",
    "cf.set(\"spark.executor.instances\", \"8\")\n",
    "sc = SparkContext.getOrCreate(cf)\n",
    "\n",
    "spark = SparkSession \\\n",
    ".builder \\\n",
    ".appName(\"Python Spark SQL basic example\") \\\n",
    ".config(\"spark.some.config.option\", \"some-value\") \\\n",
    ".getOrCreate()"
   ]
  },
  {
   "cell_type": "code",
   "execution_count": 2,
   "id": "18d40fd4",
   "metadata": {},
   "outputs": [
    {
     "data": {
      "text/html": [
       "\n",
       "            <div>\n",
       "                <p><b>SparkSession - hive</b></p>\n",
       "                \n",
       "        <div>\n",
       "            <p><b>SparkContext</b></p>\n",
       "\n",
       "            <p><a href=\"http://nyu-dataproc-m.c.hpc-dataproc-19b8.internal:37939\">Spark UI</a></p>\n",
       "\n",
       "            <dl>\n",
       "              <dt>Version</dt>\n",
       "                <dd><code>v3.1.3</code></dd>\n",
       "              <dt>Master</dt>\n",
       "                <dd><code>yarn</code></dd>\n",
       "              <dt>AppName</dt>\n",
       "                <dd><code>pyspark-shell</code></dd>\n",
       "            </dl>\n",
       "        </div>\n",
       "        \n",
       "            </div>\n",
       "        "
      ],
      "text/plain": [
       "<pyspark.sql.session.SparkSession at 0x7ff5acd800d0>"
      ]
     },
     "execution_count": 2,
     "metadata": {},
     "output_type": "execute_result"
    }
   ],
   "source": [
    "spark"
   ]
  },
  {
   "cell_type": "code",
   "execution_count": 3,
   "id": "c50ef79f",
   "metadata": {},
   "outputs": [
    {
     "name": "stderr",
     "output_type": "stream",
     "text": [
      "                                                                                \r"
     ]
    }
   ],
   "source": [
    "anime_data_path = 'animedata/anime-dataset-2023_new.csv'\n",
    "animedata = spark.read.format(\"csv\").option(\"header\", \"true\") \\\n",
    "                                   .option(\"headers\", \"true\") \\\n",
    "                                   .option('escape','\"') \\\n",
    "                                   .option(\"multiLine\",\"true\")\\\n",
    "                                   .option(\"inferSchema\", \"true\") \\\n",
    "                                   .load(anime_data_path, sep=',')"
   ]
  },
  {
   "cell_type": "code",
   "execution_count": 4,
   "id": "428e8490",
   "metadata": {},
   "outputs": [],
   "source": [
    "animedata = animedata.limit(1000)\n"
   ]
  },
  {
   "cell_type": "code",
   "execution_count": 5,
   "id": "aed92eab",
   "metadata": {},
   "outputs": [
    {
     "name": "stderr",
     "output_type": "stream",
     "text": [
      "                                                                                \r"
     ]
    }
   ],
   "source": [
    "from pyspark.sql import SparkSession\n",
    "from pyspark.ml.feature import Tokenizer, HashingTF, IDF, Normalizer\n",
    "from pyspark.ml.linalg import Vectors\n",
    "from pyspark.ml.feature import BucketedRandomProjectionLSH, StopWordsRemover\n",
    "from pyspark.sql.functions import col\n",
    "# Initialize Spark Session\n",
    "spark = SparkSession.builder.appName(\"ContentBasedRecommender\").getOrCreate()\n",
    "\n",
    "\n",
    "animedata  = animedata.na.drop(subset=[\"Synopsis\"])\n",
    "animedata = animedata.filter(col(\"Synopsis\").isNotNull() & (col(\"Synopsis\") != \"\") & (col(\"Synopsis\") != \"UNKNOWN\") & (col(\"Synopsis\") != \"No description available for this anime.\") )\n",
    "# Preprocessing: Tokenize the Synopsis text\n",
    "tokenizer = Tokenizer(inputCol=\"Synopsis\", outputCol=\"words\")\n",
    "words_data = tokenizer.transform(animedata)\n",
    "\n",
    "# Optionally remove stop words\n",
    "remover = StopWordsRemover(inputCol=\"words\", outputCol=\"filtered_words\")\n",
    "filtered_df = remover.transform(words_data)\n",
    "\n",
    "# Feature Extraction: Apply HashingTF and IDF\n",
    "hashing_tf = HashingTF(inputCol=\"words\", outputCol=\"raw_features\")\n",
    "featurized_data = hashing_tf.transform(filtered_df)\n",
    "idf = IDF(inputCol=\"raw_features\", outputCol=\"idf_features\")\n",
    "idf_model = idf.fit(featurized_data)\n",
    "tfidf_data = idf_model.transform(featurized_data)\n",
    "\n",
    "# Normalize the features\n",
    "normalizer = Normalizer(inputCol=\"idf_features\", outputCol=\"features\")\n",
    "normalized_data = normalizer.transform(tfidf_data)\n",
    "\n",
    "# Approximate Similarity Join\n",
    "brp = BucketedRandomProjectionLSH(inputCol=\"features\", outputCol=\"hashes\", bucketLength=2.0, numHashTables=3)\n",
    "model = brp.fit(normalized_data)\n",
    "hashed_df = model.transform(normalized_data)"
   ]
  },
  {
   "cell_type": "code",
   "execution_count": 6,
   "id": "e33018cd",
   "metadata": {},
   "outputs": [
    {
     "name": "stdout",
     "output_type": "stream",
     "text": [
      "root\n",
      " |-- _c0: integer (nullable = true)\n",
      " |-- anime_id: integer (nullable = true)\n",
      " |-- Name: string (nullable = true)\n",
      " |-- English name: string (nullable = true)\n",
      " |-- Other name: string (nullable = true)\n",
      " |-- Score: string (nullable = true)\n",
      " |-- Genres: string (nullable = true)\n",
      " |-- Synopsis: string (nullable = true)\n",
      " |-- Type: string (nullable = true)\n",
      " |-- Episodes: string (nullable = true)\n",
      " |-- Aired: string (nullable = true)\n",
      " |-- Premiered: string (nullable = true)\n",
      " |-- Status: string (nullable = true)\n",
      " |-- Producers: string (nullable = true)\n",
      " |-- Licensors: string (nullable = true)\n",
      " |-- Studios: string (nullable = true)\n",
      " |-- Source: string (nullable = true)\n",
      " |-- Duration: string (nullable = true)\n",
      " |-- Rating: string (nullable = true)\n",
      " |-- Rank: string (nullable = true)\n",
      " |-- Popularity: integer (nullable = true)\n",
      " |-- Favorites: integer (nullable = true)\n",
      " |-- Scored By: string (nullable = true)\n",
      " |-- Members: integer (nullable = true)\n",
      " |-- Image URL: string (nullable = true)\n",
      " |-- words: array (nullable = true)\n",
      " |    |-- element: string (containsNull = true)\n",
      " |-- filtered_words: array (nullable = true)\n",
      " |    |-- element: string (containsNull = true)\n",
      " |-- raw_features: vector (nullable = true)\n",
      " |-- idf_features: vector (nullable = true)\n",
      " |-- features: vector (nullable = true)\n",
      " |-- hashes: array (nullable = true)\n",
      " |    |-- element: vector (containsNull = true)\n",
      "\n"
     ]
    }
   ],
   "source": [
    "hashed_df.printSchema()"
   ]
  },
  {
   "cell_type": "code",
   "execution_count": 7,
   "id": "cb3446ed",
   "metadata": {},
   "outputs": [
    {
     "name": "stderr",
     "output_type": "stream",
     "text": [
      "24/05/08 00:58:24 WARN org.apache.spark.sql.catalyst.util.package: Truncated the string representation of a plan since it was too large. This behavior can be adjusted by setting 'spark.sql.debug.maxToStringFields'.\n",
      "24/05/08 00:58:25 WARN org.apache.spark.scheduler.DAGScheduler: Broadcasting large task binary with size 10.2 MiB\n",
      "24/05/08 00:58:29 WARN org.apache.spark.scheduler.DAGScheduler: Broadcasting large task binary with size 10.5 MiB\n",
      "24/05/08 00:58:34 WARN org.apache.spark.scheduler.DAGScheduler: Broadcasting large task binary with size 10.1 MiB\n"
     ]
    },
    {
     "name": "stdout",
     "output_type": "stream",
     "text": [
      "+--------+------------------+\n",
      "|anime_id| EuclideanDistance|\n",
      "+--------+------------------+\n",
      "|       5|1.2856004070547875|\n",
      "|     693|1.3710705584445335|\n",
      "|     977|1.3735517622751743|\n",
      "|    1059|1.3739296232000533|\n",
      "|     387|1.3775137152845998|\n",
      "+--------+------------------+\n",
      "\n"
     ]
    },
    {
     "name": "stderr",
     "output_type": "stream",
     "text": [
      "                                                                                \r"
     ]
    }
   ],
   "source": [
    "def recommend_anime(anime_id, top_n):\n",
    "    # Filter for the given anime_id\n",
    "    query_df = hashed_df.filter(hashed_df.anime_id == anime_id)\n",
    "\n",
    "    # Compute the approx similarity join\n",
    "    similar_anime = model.approxSimilarityJoin(query_df, hashed_df, threshold=1.5, distCol=\"EuclideanDistance\")\n",
    "\n",
    "    # Select the anime and their distances\n",
    "    similar_anime_df = similar_anime.select(col(\"datasetB.anime_id\").alias(\"anime_id\"), col(\"EuclideanDistance\"))\n",
    "    \n",
    "    # Filter out the query anime and limit to top N\n",
    "    similar_anime_df = similar_anime_df.filter(similar_anime_df.anime_id != anime_id).orderBy(\"EuclideanDistance\").limit(top_n)\n",
    "\n",
    "    return similar_anime_df\n",
    "\n",
    "# Example usage\n",
    "specific_anime_id = 1  # Replace with an actual anime_id\n",
    "recommended_anime = recommend_anime(specific_anime_id, 5)\n",
    "\n",
    "recommended_anime.show()"
   ]
  },
  {
   "cell_type": "code",
   "execution_count": 8,
   "id": "c6b74cf5",
   "metadata": {},
   "outputs": [],
   "source": [
    "final_recommendations = recommended_anime.join(animedata, \"anime_id\")"
   ]
  },
  {
   "cell_type": "code",
   "execution_count": 9,
   "id": "5c5a15d4",
   "metadata": {},
   "outputs": [
    {
     "name": "stdout",
     "output_type": "stream",
     "text": [
      "+--------+------------+-------------------------------------------------------------------------------------------------------------------------------------------------------------------------------------------------------------------------------------------------------------------------------------------------------------------------------------------------------------------------------------------------------------------------------------------------------------------------------------------------------------------------------------------------------------------------------------------------------------------------------------------------------------------------------------------------------------------------------------------------------------------------------------------------------------------------------------------------------------------------------------------------------------------------------------------------------------------------------------------------------------------------------+\n",
      "|anime_id|Name        |Synopsis                                                                                                                                                                                                                                                                                                                                                                                                                                                                                                                                                                                                                                                                                                                                                                                                                                                                                                                                                                                                                       |\n",
      "+--------+------------+-------------------------------------------------------------------------------------------------------------------------------------------------------------------------------------------------------------------------------------------------------------------------------------------------------------------------------------------------------------------------------------------------------------------------------------------------------------------------------------------------------------------------------------------------------------------------------------------------------------------------------------------------------------------------------------------------------------------------------------------------------------------------------------------------------------------------------------------------------------------------------------------------------------------------------------------------------------------------------------------------------------------------------+\n",
      "|1       |Cowboy Bebop|Crime is timeless. By the year 2071 humanity has expanded across the galaxy filling the surface of other planets with settlements like those on Earth. These new societies are plagued by murder drug use and theft and intergalactic outlaws are hunted by a growing number of tough bounty hunters.\n",
      "\n",
      "Spike Spiegel and Jet Black pursue criminals throughout space to make a humble living. Beneath his goofy and aloof demeanor Spike is haunted by the weight of his violent past. Meanwhile Jet manages his own troubled memories while taking care of Spike and the Bebop their ship. The duo is joined by the beautiful con artist Faye Valentine odd child Edward Wong Hau Pepelu Tivrusky IV and Ein a bioengineered Welsh Corgi.\n",
      "\n",
      "While developing bonds and working to catch a colorful cast of criminals the Bebop crew's lives are disrupted by a menace from Spike's past. As a rival's maniacal plot continues to unravel Spike must choose between life with his newfound family or revenge for his old wounds.|\n",
      "+--------+------------+-------------------------------------------------------------------------------------------------------------------------------------------------------------------------------------------------------------------------------------------------------------------------------------------------------------------------------------------------------------------------------------------------------------------------------------------------------------------------------------------------------------------------------------------------------------------------------------------------------------------------------------------------------------------------------------------------------------------------------------------------------------------------------------------------------------------------------------------------------------------------------------------------------------------------------------------------------------------------------------------------------------------------------+\n",
      "\n"
     ]
    }
   ],
   "source": [
    "animedata.filter(col('anime_id')==specific_anime_id).select(\"anime_id\",\"Name\", \"Synopsis\").show(truncate = False)"
   ]
  },
  {
   "cell_type": "code",
   "execution_count": 10,
   "id": "3f1e1321",
   "metadata": {},
   "outputs": [
    {
     "name": "stderr",
     "output_type": "stream",
     "text": [
      "24/05/08 00:58:45 WARN org.apache.spark.scheduler.DAGScheduler: Broadcasting large task binary with size 10.2 MiB\n",
      "24/05/08 00:58:47 WARN org.apache.spark.scheduler.DAGScheduler: Broadcasting large task binary with size 10.5 MiB\n",
      "24/05/08 00:58:48 WARN org.apache.spark.scheduler.DAGScheduler: Broadcasting large task binary with size 10.1 MiB\n",
      "                                                                                \r"
     ]
    },
    {
     "name": "stdout",
     "output_type": "stream",
     "text": [
      "+--------+------------------+---------------------------------------------------------------+-----------------------------------------------------------------------------------------------------------------------------------------------------------------------------------------------------------------------------------------------------------------------------------------------------------------------------------------------------------------------------------------------------------------------------------------------------------------------------------------------------------------------------------------------------------------------------------------------------------------------------------------------------------------------------------------------------------------------------------------------------------------------------------------------------------------------------------------------------------------------------------------------------------------------------------------------------------------------------------------------------------------------------------------------------------------------------------------------------------+\n",
      "|anime_id|EuclideanDistance |Name                                                           |Synopsis                                                                                                                                                                                                                                                                                                                                                                                                                                                                                                                                                                                                                                                                                                                                                                                                                                                                                                                                                                                                                                                                                                   |\n",
      "+--------+------------------+---------------------------------------------------------------+-----------------------------------------------------------------------------------------------------------------------------------------------------------------------------------------------------------------------------------------------------------------------------------------------------------------------------------------------------------------------------------------------------------------------------------------------------------------------------------------------------------------------------------------------------------------------------------------------------------------------------------------------------------------------------------------------------------------------------------------------------------------------------------------------------------------------------------------------------------------------------------------------------------------------------------------------------------------------------------------------------------------------------------------------------------------------------------------------------------+\n",
      "|5       |1.2856004070547875|Cowboy Bebop: Tengoku no Tobira                                |Another day another bounty—such is the life of the often unlucky crew of the Bebop. However this routine is interrupted when Faye who is chasing a fairly worthless target on Mars witnesses an oil tanker suddenly explode causing mass hysteria. As casualties mount due to a strange disease spreading through the smoke from the blast a whopping three hundred million woolong price is placed on the head of the supposed perpetrator.\n",
      "\n",
      "With lives at stake and a solution to their money problems in sight the Bebop crew springs into action. Spike Jet Faye and Edward followed closely by Ein split up to pursue different leads across Alba City. Through their individual investigations they discover a cover-up scheme involving a pharmaceutical company revealing a plot that reaches much further than the ragtag team of bounty hunters could have realized.                                                                                                                                                                                                                             |\n",
      "|387     |1.3775137152845998|Haibane Renmei                                                 |Born from a cocoon in the village of Old Home a young Haibane—a being with a halo and small gray wings—awakens to a world she does not understand without memories of her past. Named Rakka for the dream of falling she had while inside the cocoon she soon becomes accustomed to life in the strange town. However there are strict rules for the Haibane such as being forbidden to leave the village or go near the walls surrounding it. These along with mysterious disappearances of their kind on their \"Day of Flight\" begin to unsettle Rakka and the others since they know almost nothing about their own kind.\n",
      " \n",
      "Haibane Renmei tells not only Rakka's story but also of those around her as they live their lives with no memories of the past while trying to break free from their former pain and ultimately find salvation.                                                                                                                                                                                                                                                             |\n",
      "|693     |1.3710705584445335|Burn Up Scramble                                               |AD. 2023 Tokyo. Because of the change of the society such as internationalization and enlargement of the trading the dark side of the society also continues changing. The criminals are getting deep and their organizations are increasing its size then the peace and security is getting worse.\n",
      " \n",
      "The government takes it seriously and decides to introduce an innovative system. In order to cope with the special criminals an extralegal police is founded. \n",
      "\n",
      "It is a special criminal team Warriors which consists of a few elite members. \n",
      "\n",
      "(Source: AnimeNfo)                                                                                                                                                                                                                                                                                                                                                                                                                                                                                                                                   |\n",
      "|977     |1.3735517622751743|Ginga Teikoku no Metsubou Gaiden: Aoki Ookami-tachi no Densetsu|The overcrowding of Earth forced humanity to migrate to other planets and adapt accordingly. Spread across the solar system the race continued to prosper—until Pluto was suddenly attacked by an unknown enemy. The complete annihilation of its population made clear the mysterious assailants' aim to destroy mankind. The invaders use their human victims' knowledge and energy to pilot giant mechanical bodies and humanity has dubbed them Apocalypse out of fear.\n",
      "\n",
      "In the year 2199 Second Lieutenant Jonathan Tyberius clears his screening tests and becomes qualified to undergo the most elite military training course—allowing him to develop the ability to pilot humanity’s own manned robots. Working through the tough military training he gradually grows closer to his new roommate Leonard Schteinberg.\n",
      "\n",
      "Beneath the facade of a disciplined army base corruption runs deep. With a tyrannical predator calling the shots and long-forgotten memories returning to haunt them Jonathan and Leonard begin to suspect that their greatest enemy might not actually be the Apocalypse.|\n",
      "|1059    |1.3739296232000533|Mutant Turtles: Choujin Densetsu-hen                           |When the Teenage Mutant Ninja Turtles acquire Mutastones from Crys-Mu the spirit of light they acquire the ability to enhance themselves into Super Turtles for a duration of three minutes. Meanwhile the evil Shredder and his minions Bebop and Rocksteady stumble upon the Dark Mutastone which transforms them into Devil Shredder Supermutant Bebop and Supermutant Rocksteady respectively. But the Turtles have one more trick up their shells: all four of them can combine into their ultimate form—Turtle Saint.\n",
      "\n",
      "(Source: ANN)                                                                                                                                                                                                                                                                                                                                                                                                                                                                                                                                                                 |\n",
      "+--------+------------------+---------------------------------------------------------------+-----------------------------------------------------------------------------------------------------------------------------------------------------------------------------------------------------------------------------------------------------------------------------------------------------------------------------------------------------------------------------------------------------------------------------------------------------------------------------------------------------------------------------------------------------------------------------------------------------------------------------------------------------------------------------------------------------------------------------------------------------------------------------------------------------------------------------------------------------------------------------------------------------------------------------------------------------------------------------------------------------------------------------------------------------------------------------------------------------------+\n",
      "\n"
     ]
    }
   ],
   "source": [
    "final_recommendations.select(\"anime_id\", \"EuclideanDistance\", \"Name\", \"Synopsis\").show(truncate = False)"
   ]
  },
  {
   "cell_type": "code",
   "execution_count": 11,
   "id": "a9368386",
   "metadata": {},
   "outputs": [],
   "source": [
    "from pyspark.sql.functions import col, rank\n",
    "from pyspark.sql.window import Window\n",
    "\n",
    "def get_top_5_recommendations_for_all_anime(df, model):\n",
    "    # Perform the approx similarity join for the whole dataset\n",
    "    similar_animes_df = model.approxSimilarityJoin(df, df, threshold=float(\"inf\"), distCol=\"EuclideanDistance\") \\\n",
    "                            .filter(\"datasetA.anime_id != datasetB.anime_id\")  # Exclude same anime comparisons\n",
    "\n",
    "\n",
    "    similar_animes_df = similar_animes_df.select(\n",
    "        col(\"datasetA.anime_id\").alias(\"anime_id\"),\n",
    "        col(\"datasetB.anime_id\").alias(\"similar_anime_id\"),\n",
    "        col(\"EuclideanDistance\")\n",
    "    )\n",
    "\n",
    "    # Add a rank column based on EuclideanDistance for each anime\n",
    "    windowSpec = Window.partitionBy(\"anime_id\").orderBy(\"EuclideanDistance\")\n",
    "    similar_animes_df = similar_animes_df.withColumn(\"rank\", rank().over(windowSpec))\n",
    "\n",
    "    # Filter to keep only top 5 similar animes for each anime\n",
    "    top_5_similar_animes_df = similar_animes_df.filter(col(\"rank\") <= 5)\n",
    "\n",
    "    return top_5_similar_animes_df\n",
    "\n",
    "# Apply the function to get top 5 recommendations for all animes\n",
    "top_5_recommendations_for_all_animes = get_top_5_recommendations_for_all_anime(hashed_df, model)"
   ]
  },
  {
   "cell_type": "code",
   "execution_count": 12,
   "id": "3232b354",
   "metadata": {},
   "outputs": [
    {
     "name": "stderr",
     "output_type": "stream",
     "text": [
      "24/05/08 00:59:15 WARN org.apache.spark.scheduler.DAGScheduler: Broadcasting large task binary with size 10.2 MiB\n",
      "24/05/08 00:59:18 WARN org.apache.spark.scheduler.DAGScheduler: Broadcasting large task binary with size 10.5 MiB\n",
      "[Stage 27:>                                                         (0 + 1) / 1]\r"
     ]
    },
    {
     "name": "stdout",
     "output_type": "stream",
     "text": [
      "+--------+----------------+------------------+----+\n",
      "|anime_id|similar_anime_id| EuclideanDistance|rank|\n",
      "+--------+----------------+------------------+----+\n",
      "|       1|               5|1.2856004070547875|   1|\n",
      "|       1|             693|1.3710705584445335|   2|\n",
      "|       1|             977|1.3735517622751743|   3|\n",
      "|       1|            1059|1.3739296232000533|   4|\n",
      "|       1|             387|1.3775137152845998|   5|\n",
      "+--------+----------------+------------------+----+\n",
      "only showing top 5 rows\n",
      "\n"
     ]
    },
    {
     "name": "stderr",
     "output_type": "stream",
     "text": [
      "                                                                                \r"
     ]
    }
   ],
   "source": [
    "top_5_recommendations_for_all_animes.show(5)"
   ]
  },
  {
   "cell_type": "code",
   "execution_count": 13,
   "id": "b4ac3711",
   "metadata": {},
   "outputs": [
    {
     "name": "stdout",
     "output_type": "stream",
     "text": [
      "root\n",
      " |-- anime_id: integer (nullable = true)\n",
      " |-- similar_anime_id: integer (nullable = true)\n",
      " |-- EuclideanDistance: double (nullable = false)\n",
      " |-- rank: integer (nullable = true)\n",
      "\n"
     ]
    }
   ],
   "source": [
    "top_5_recommendations_for_all_animes.printSchema()"
   ]
  },
  {
   "cell_type": "code",
   "execution_count": 14,
   "id": "7f0b13f2",
   "metadata": {},
   "outputs": [],
   "source": [
    "from pyspark.sql.functions import col\n",
    "\n",
    "# Join to add Names  primary Animes (Anime_id_A)\n",
    "recommendations_with_details = top_5_recommendations_for_all_animes.alias(\"recs\").join(\n",
    "    animedata.alias(\"anime\"),\n",
    "    col(\"recs.anime_id\") == col(\"anime.anime_id\")\n",
    ").select(\n",
    "    col(\"recs.anime_id\").alias(\"anime_id_A\"),\n",
    "    col(\"anime.Name\").alias(\"Name_A\"),\n",
    "    col(\"recs.similar_anime_id\"),\n",
    "    col(\"recs.EuclideanDistance\")\n",
    ")\n",
    "\n",
    "# Join to add Names  primary Animes (Anime_id_B)\n",
    "final_recommendations = recommendations_with_details.alias(\"recs\").join(\n",
    "    animedata.alias(\"anime\"),\n",
    "    col(\"recs.similar_anime_id\") == col(\"anime.anime_id\")\n",
    ").select(\n",
    "    col(\"recs.anime_id_A\"),\n",
    "    col(\"recs.Name_A\"),\n",
    "    col(\"anime.Name\").alias(\"Name_B\"),\n",
    "    col(\"recs.EuclideanDistance\").alias(\"distCol\")\n",
    ")\n",
    "\n",
    "# Show the final DataFrame\n",
    "# final_recommendations.show(truncate=False)"
   ]
  },
  {
   "cell_type": "code",
   "execution_count": 16,
   "id": "2018e520",
   "metadata": {},
   "outputs": [
    {
     "name": "stderr",
     "output_type": "stream",
     "text": [
      "24/05/08 01:03:19 WARN org.apache.spark.scheduler.DAGScheduler: Broadcasting large task binary with size 10.2 MiB\n",
      "24/05/08 01:03:22 WARN org.apache.spark.scheduler.DAGScheduler: Broadcasting large task binary with size 10.5 MiB\n",
      "                                                                                \r"
     ]
    }
   ],
   "source": [
    "content_based = final_recommendations.toPandas()\n",
    "# content_based.to_csv(\"animedata/anime_tfidf_reco.csv\")\n"
   ]
  },
  {
   "cell_type": "code",
   "execution_count": 17,
   "id": "49fdb589",
   "metadata": {},
   "outputs": [
    {
     "data": {
      "text/html": [
       "<div>\n",
       "<style scoped>\n",
       "    .dataframe tbody tr th:only-of-type {\n",
       "        vertical-align: middle;\n",
       "    }\n",
       "\n",
       "    .dataframe tbody tr th {\n",
       "        vertical-align: top;\n",
       "    }\n",
       "\n",
       "    .dataframe thead th {\n",
       "        text-align: right;\n",
       "    }\n",
       "</style>\n",
       "<table border=\"1\" class=\"dataframe\">\n",
       "  <thead>\n",
       "    <tr style=\"text-align: right;\">\n",
       "      <th></th>\n",
       "      <th>anime_id_A</th>\n",
       "      <th>Name_A</th>\n",
       "      <th>Name_B</th>\n",
       "      <th>distCol</th>\n",
       "    </tr>\n",
       "  </thead>\n",
       "  <tbody>\n",
       "    <tr>\n",
       "      <th>20</th>\n",
       "      <td>8</td>\n",
       "      <td>Bouken Ou Beet</td>\n",
       "      <td>Akahori Gedou Hour Rabuge</td>\n",
       "      <td>1.369051</td>\n",
       "    </tr>\n",
       "    <tr>\n",
       "      <th>21</th>\n",
       "      <td>8</td>\n",
       "      <td>Bouken Ou Beet</td>\n",
       "      <td>Eyeshield 21</td>\n",
       "      <td>1.373967</td>\n",
       "    </tr>\n",
       "    <tr>\n",
       "      <th>22</th>\n",
       "      <td>8</td>\n",
       "      <td>Bouken Ou Beet</td>\n",
       "      <td>Bishoujo Senshi Sailor Moon S</td>\n",
       "      <td>1.375497</td>\n",
       "    </tr>\n",
       "    <tr>\n",
       "      <th>23</th>\n",
       "      <td>8</td>\n",
       "      <td>Bouken Ou Beet</td>\n",
       "      <td>Vampire Hunter D</td>\n",
       "      <td>1.375647</td>\n",
       "    </tr>\n",
       "    <tr>\n",
       "      <th>24</th>\n",
       "      <td>8</td>\n",
       "      <td>Bouken Ou Beet</td>\n",
       "      <td>Top wo Nerae 2! Diebuster</td>\n",
       "      <td>1.376359</td>\n",
       "    </tr>\n",
       "    <tr>\n",
       "      <th>25</th>\n",
       "      <td>15</td>\n",
       "      <td>Eyeshield 21</td>\n",
       "      <td>Witch Hunter Robin</td>\n",
       "      <td>1.359213</td>\n",
       "    </tr>\n",
       "    <tr>\n",
       "      <th>26</th>\n",
       "      <td>15</td>\n",
       "      <td>Eyeshield 21</td>\n",
       "      <td>Bouken Ou Beet</td>\n",
       "      <td>1.373967</td>\n",
       "    </tr>\n",
       "    <tr>\n",
       "      <th>27</th>\n",
       "      <td>15</td>\n",
       "      <td>Eyeshield 21</td>\n",
       "      <td>Hajime no Ippo</td>\n",
       "      <td>1.377655</td>\n",
       "    </tr>\n",
       "    <tr>\n",
       "      <th>28</th>\n",
       "      <td>15</td>\n",
       "      <td>Eyeshield 21</td>\n",
       "      <td>Mahoromatic: Automatic Maiden</td>\n",
       "      <td>1.378340</td>\n",
       "    </tr>\n",
       "    <tr>\n",
       "      <th>29</th>\n",
       "      <td>15</td>\n",
       "      <td>Eyeshield 21</td>\n",
       "      <td>Tetsuwan Birdy</td>\n",
       "      <td>1.379137</td>\n",
       "    </tr>\n",
       "    <tr>\n",
       "      <th>30</th>\n",
       "      <td>16</td>\n",
       "      <td>Hachimitsu to Clover</td>\n",
       "      <td>Magikano</td>\n",
       "      <td>1.347877</td>\n",
       "    </tr>\n",
       "    <tr>\n",
       "      <th>31</th>\n",
       "      <td>16</td>\n",
       "      <td>Hachimitsu to Clover</td>\n",
       "      <td>Kanojo to Kanojo no Neko</td>\n",
       "      <td>1.363703</td>\n",
       "    </tr>\n",
       "    <tr>\n",
       "      <th>32</th>\n",
       "      <td>16</td>\n",
       "      <td>Hachimitsu to Clover</td>\n",
       "      <td>To Heart</td>\n",
       "      <td>1.363793</td>\n",
       "    </tr>\n",
       "    <tr>\n",
       "      <th>33</th>\n",
       "      <td>16</td>\n",
       "      <td>Hachimitsu to Clover</td>\n",
       "      <td>Kono Minikuku mo Utsukushii Sekai</td>\n",
       "      <td>1.366521</td>\n",
       "    </tr>\n",
       "    <tr>\n",
       "      <th>34</th>\n",
       "      <td>16</td>\n",
       "      <td>Hachimitsu to Clover</td>\n",
       "      <td>Marmalade Boy Movie</td>\n",
       "      <td>1.366998</td>\n",
       "    </tr>\n",
       "    <tr>\n",
       "      <th>35</th>\n",
       "      <td>17</td>\n",
       "      <td>Hungry Heart: Wild Striker</td>\n",
       "      <td>Whistle!</td>\n",
       "      <td>1.193131</td>\n",
       "    </tr>\n",
       "    <tr>\n",
       "      <th>36</th>\n",
       "      <td>17</td>\n",
       "      <td>Hungry Heart: Wild Striker</td>\n",
       "      <td>Bronze: Zetsuai Since 1989</td>\n",
       "      <td>1.277095</td>\n",
       "    </tr>\n",
       "    <tr>\n",
       "      <th>37</th>\n",
       "      <td>17</td>\n",
       "      <td>Hungry Heart: Wild Striker</td>\n",
       "      <td>The SoulTaker: Tamashii-gari</td>\n",
       "      <td>1.278662</td>\n",
       "    </tr>\n",
       "    <tr>\n",
       "      <th>38</th>\n",
       "      <td>17</td>\n",
       "      <td>Hungry Heart: Wild Striker</td>\n",
       "      <td>H2</td>\n",
       "      <td>1.292398</td>\n",
       "    </tr>\n",
       "    <tr>\n",
       "      <th>39</th>\n",
       "      <td>17</td>\n",
       "      <td>Hungry Heart: Wild Striker</td>\n",
       "      <td>Kimagure Orange☆Road</td>\n",
       "      <td>1.325328</td>\n",
       "    </tr>\n",
       "  </tbody>\n",
       "</table>\n",
       "</div>"
      ],
      "text/plain": [
       "    anime_id_A                      Name_A                             Name_B  \\\n",
       "20           8              Bouken Ou Beet          Akahori Gedou Hour Rabuge   \n",
       "21           8              Bouken Ou Beet                       Eyeshield 21   \n",
       "22           8              Bouken Ou Beet      Bishoujo Senshi Sailor Moon S   \n",
       "23           8              Bouken Ou Beet                   Vampire Hunter D   \n",
       "24           8              Bouken Ou Beet          Top wo Nerae 2! Diebuster   \n",
       "25          15                Eyeshield 21                 Witch Hunter Robin   \n",
       "26          15                Eyeshield 21                     Bouken Ou Beet   \n",
       "27          15                Eyeshield 21                     Hajime no Ippo   \n",
       "28          15                Eyeshield 21      Mahoromatic: Automatic Maiden   \n",
       "29          15                Eyeshield 21                     Tetsuwan Birdy   \n",
       "30          16        Hachimitsu to Clover                           Magikano   \n",
       "31          16        Hachimitsu to Clover           Kanojo to Kanojo no Neko   \n",
       "32          16        Hachimitsu to Clover                           To Heart   \n",
       "33          16        Hachimitsu to Clover  Kono Minikuku mo Utsukushii Sekai   \n",
       "34          16        Hachimitsu to Clover                Marmalade Boy Movie   \n",
       "35          17  Hungry Heart: Wild Striker                           Whistle!   \n",
       "36          17  Hungry Heart: Wild Striker         Bronze: Zetsuai Since 1989   \n",
       "37          17  Hungry Heart: Wild Striker       The SoulTaker: Tamashii-gari   \n",
       "38          17  Hungry Heart: Wild Striker                                 H2   \n",
       "39          17  Hungry Heart: Wild Striker               Kimagure Orange☆Road   \n",
       "\n",
       "     distCol  \n",
       "20  1.369051  \n",
       "21  1.373967  \n",
       "22  1.375497  \n",
       "23  1.375647  \n",
       "24  1.376359  \n",
       "25  1.359213  \n",
       "26  1.373967  \n",
       "27  1.377655  \n",
       "28  1.378340  \n",
       "29  1.379137  \n",
       "30  1.347877  \n",
       "31  1.363703  \n",
       "32  1.363793  \n",
       "33  1.366521  \n",
       "34  1.366998  \n",
       "35  1.193131  \n",
       "36  1.277095  \n",
       "37  1.278662  \n",
       "38  1.292398  \n",
       "39  1.325328  "
      ]
     },
     "execution_count": 17,
     "metadata": {},
     "output_type": "execute_result"
    }
   ],
   "source": [
    "content_based[20:40]"
   ]
  },
  {
   "cell_type": "code",
   "execution_count": null,
   "id": "8d40c342",
   "metadata": {},
   "outputs": [],
   "source": []
  }
 ],
 "metadata": {
  "kernelspec": {
   "display_name": "Python 3 (ipykernel)",
   "language": "python",
   "name": "python3"
  },
  "language_info": {
   "codemirror_mode": {
    "name": "ipython",
    "version": 3
   },
   "file_extension": ".py",
   "mimetype": "text/x-python",
   "name": "python",
   "nbconvert_exporter": "python",
   "pygments_lexer": "ipython3",
   "version": "3.8.15"
  }
 },
 "nbformat": 4,
 "nbformat_minor": 5
}
